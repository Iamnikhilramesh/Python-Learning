{
 "cells": [
  {
   "cell_type": "markdown",
   "metadata": {},
   "source": [
    "# Define a object using class"
   ]
  },
  {
   "cell_type": "code",
   "execution_count": 1,
   "metadata": {},
   "outputs": [],
   "source": [
    "class Computer:\n",
    "    #initilization of an object/ Its like constructor\n",
    "    def __init__(self,cpu,ram):\n",
    "        self.cpu = cpu\n",
    "        self.ram = ram\n",
    "    def config(self):\n",
    "        print(self.cpu,self.ram)"
   ]
  },
  {
   "cell_type": "code",
   "execution_count": 5,
   "metadata": {},
   "outputs": [],
   "source": [
    "cpu = \"i5\"\n",
    "ram = 16\n",
    "comp = Computer(cpu,ram)"
   ]
  },
  {
   "cell_type": "code",
   "execution_count": 6,
   "metadata": {},
   "outputs": [
    {
     "name": "stdout",
     "output_type": "stream",
     "text": [
      "i5 16\n"
     ]
    }
   ],
   "source": [
    "comp.config()"
   ]
  },
  {
   "cell_type": "markdown",
   "metadata": {},
   "source": [
    "# Types of variables\n",
    "## 1. Instance variable\n",
    "## 2. Class variable"
   ]
  },
  {
   "cell_type": "code",
   "execution_count": 7,
   "metadata": {},
   "outputs": [],
   "source": [
    "class Variable_Types:\n",
    "    class_variable = \"class\"\n",
    "    def config(self):\n",
    "        instance_variable = \"instance\""
   ]
  },
  {
   "cell_type": "markdown",
   "metadata": {},
   "source": [
    "# Types of Methods\n",
    "## 1. Instance Method\n",
    "## 2. Class Mentod\n",
    "## 3. Static Method"
   ]
  },
  {
   "cell_type": "code",
   "execution_count": 11,
   "metadata": {},
   "outputs": [],
   "source": [
    "class methods:\n",
    "    cost = 2000\n",
    "    def __init__(self, cpu, ram):\n",
    "        self.cpu = cpu\n",
    "        self.ram = ram\n",
    "    #instance method because we are passing self\n",
    "    def instance_method(self):\n",
    "        print(self.cpu,self.ram)\n",
    "    @classmethod\n",
    "    def class_method(var):\n",
    "        return var.cost\n",
    "    \n",
    "    #if the method is not related to any of aboce two then it is a static method\n",
    "    @staticmethod\n",
    "    def static_method():\n",
    "        print(\"this is just an info\")"
   ]
  },
  {
   "cell_type": "markdown",
   "metadata": {},
   "source": [
    "# Inner Class"
   ]
  },
  {
   "cell_type": "code",
   "execution_count": 24,
   "metadata": {},
   "outputs": [],
   "source": [
    "#class inside a class is possible in python\n",
    "class One:\n",
    "    class Three:\n",
    "        class Two:\n",
    "            def con():\n",
    "                print(\"Niky\")\n",
    "    "
   ]
  },
  {
   "cell_type": "code",
   "execution_count": 25,
   "metadata": {},
   "outputs": [],
   "source": [
    "t = One()"
   ]
  },
  {
   "cell_type": "code",
   "execution_count": 27,
   "metadata": {},
   "outputs": [
    {
     "data": {
      "text/plain": [
       "<__main__.One at 0x111387da0>"
      ]
     },
     "execution_count": 27,
     "metadata": {},
     "output_type": "execute_result"
    }
   ],
   "source": [
    "t"
   ]
  },
  {
   "cell_type": "markdown",
   "metadata": {},
   "source": [
    "# Inheritance \n",
    "### Single Level"
   ]
  },
  {
   "cell_type": "code",
   "execution_count": 28,
   "metadata": {},
   "outputs": [],
   "source": [
    "class A:\n",
    "    def feature_1():\n",
    "        print(\"Feature 1\")\n",
    "    def feature_2():\n",
    "        print(\"Feature 2\")"
   ]
  },
  {
   "cell_type": "code",
   "execution_count": 30,
   "metadata": {},
   "outputs": [],
   "source": [
    "class B(A):\n",
    "    def feature_3():\n",
    "        print(\"Feature 3\")\n",
    "    def feature_4():\n",
    "        print(\"Feature 4\")"
   ]
  },
  {
   "cell_type": "code",
   "execution_count": 31,
   "metadata": {},
   "outputs": [],
   "source": [
    "class C(B):\n",
    "    def feature_5():\n",
    "        print(\"Feature 5\")"
   ]
  },
  {
   "cell_type": "markdown",
   "metadata": {},
   "source": [
    "### Multilevel Inheritance"
   ]
  },
  {
   "cell_type": "code",
   "execution_count": 32,
   "metadata": {},
   "outputs": [],
   "source": [
    "class D:\n",
    "    def feature_1():\n",
    "        print(\"Feature 1\")\n",
    "    def feature_2():\n",
    "        print(\"Feature 2\")\n",
    "class E:\n",
    "    def feature_3():\n",
    "        print(\"Feature 3\")\n",
    "    def feature_4():\n",
    "        print(\"Feature 4\")"
   ]
  },
  {
   "cell_type": "code",
   "execution_count": 33,
   "metadata": {},
   "outputs": [],
   "source": [
    "class F(D,E):\n",
    "    def feature_5():\n",
    "        print(\"Feature 5\")"
   ]
  },
  {
   "cell_type": "markdown",
   "metadata": {},
   "source": [
    "# PolyMorphism (Many Forms)\n",
    "\n",
    "### Duck Typing\n",
    "### Opertaor Overriding\n",
    "### Method Overriding\n",
    "### Method Overloading"
   ]
  },
  {
   "cell_type": "code",
   "execution_count": null,
   "metadata": {},
   "outputs": [],
   "source": []
  }
 ],
 "metadata": {
  "kernelspec": {
   "display_name": "Python 3",
   "language": "python",
   "name": "python3"
  },
  "language_info": {
   "codemirror_mode": {
    "name": "ipython",
    "version": 3
   },
   "file_extension": ".py",
   "mimetype": "text/x-python",
   "name": "python",
   "nbconvert_exporter": "python",
   "pygments_lexer": "ipython3",
   "version": "3.6.4"
  }
 },
 "nbformat": 4,
 "nbformat_minor": 2
}
